{
 "cells": [
  {
   "cell_type": "code",
   "execution_count": 1,
   "id": "74ee63c6-9c51-4e19-8b86-0bfde9394d06",
   "metadata": {
    "scrolled": true
   },
   "outputs": [],
   "source": [
    "import cv2\n",
    "import matplotlib.pyplot as plt\n",
    "import numpy as np\n",
    "%matplotlib inline\n",
    "\n",
    "img=cv2.imread(r'C:\\Users\\MI\\Desktop\\My_picture\\my_picture\\my_picture..jpg')\n",
    "\n",
    "# 图像的显示\n",
    "def cv_show(name,img):\n",
    "    cv2.imshow(name,img)\n",
    "    cv2.waitKey(0) #按任意键关闭图像或者数字表示等待一定时间消失\n",
    "    cv2.destroyAllWindows()"
   ]
  },
  {
   "cell_type": "code",
   "execution_count": 2,
   "id": "183c14ac-d0df-4fcb-9f2f-bcd694d9eba9",
   "metadata": {},
   "outputs": [
    {
     "data": {
      "text/plain": [
       "(567, 390, 3)"
      ]
     },
     "execution_count": 2,
     "metadata": {},
     "output_type": "execute_result"
    }
   ],
   "source": [
    "img.shape"
   ]
  },
  {
   "cell_type": "code",
   "execution_count": 3,
   "id": "9af3b683-1975-45ae-a36e-922bd8ac39f3",
   "metadata": {},
   "outputs": [],
   "source": [
    "img_1=cv2.imread(r'C:\\Users\\MI\\Desktop\\My_picture\\my_picture\\my_picture..jpg',cv2.IMREAD_GRAYSCALE)"
   ]
  },
  {
   "cell_type": "code",
   "execution_count": 4,
   "id": "8ea2092b-d00f-4ff2-b277-7baa956ee31d",
   "metadata": {},
   "outputs": [],
   "source": [
    "cv_show('name',img_1)"
   ]
  },
  {
   "cell_type": "code",
   "execution_count": 5,
   "id": "fc29f2be-7b69-4d3c-a0f3-975b686f4aee",
   "metadata": {},
   "outputs": [
    {
     "data": {
      "text/plain": [
       "dtype('uint8')"
      ]
     },
     "execution_count": 5,
     "metadata": {},
     "output_type": "execute_result"
    }
   ],
   "source": [
    "img.dtype"
   ]
  },
  {
   "cell_type": "code",
   "execution_count": 6,
   "id": "c2ed4d79-8d86-4a3d-93c0-993f5d81e480",
   "metadata": {},
   "outputs": [],
   "source": [
    "#vc =cv2.VideoCapture('test.mp4')\n",
    "\n",
    "#if vc.isOpened():\n",
    "#    open.frame=vc.read()\n",
    "#else:\n",
    "#    open=False\n",
    "#\n",
    "#while open:\n",
    "#    ret.frame=vc.read()\n",
    "#    if frame is None:\n",
    "#        break\n",
    "#        if ret==True:\n",
    "#            gray=cv2.cvtColor(frame,cv2.COLOR_BGR2GRAY)\n",
    "#            cv2.imshow('result',gray)\n",
    "#            if cv2.waitKey(10)& 0xFF==27:\n",
    "#                break#\n",
    "#\n",
    "#vc.realse()\n",
    "#cv2.destroyAllWindows()"
   ]
  },
  {
   "cell_type": "code",
   "execution_count": 7,
   "id": "148b014c-8868-4560-ae28-04cfdb8c2bf9",
   "metadata": {},
   "outputs": [],
   "source": [
    "#ROI区域\n",
    "my_picture=img[0:500,0:200];\n",
    "cv_show('my_picture',my_picture)"
   ]
  },
  {
   "cell_type": "code",
   "execution_count": 8,
   "id": "a381f98d-a866-4707-8282-1d92c7d9a01b",
   "metadata": {},
   "outputs": [
    {
     "data": {
      "text/plain": [
       "array([[ 66,  66,  66, ...,  66,  66,  66],\n",
       "       [ 66,  66,  66, ...,  66,  66,  66],\n",
       "       [ 66,  66,  66, ...,  66,  66,  66],\n",
       "       ...,\n",
       "       [153, 161, 168, ..., 197, 198, 200],\n",
       "       [154, 161, 168, ..., 196, 198, 200],\n",
       "       [156, 163, 165, ..., 197, 201, 200]], dtype=uint8)"
      ]
     },
     "execution_count": 8,
     "metadata": {},
     "output_type": "execute_result"
    }
   ],
   "source": [
    "b,g,r=cv2.split(img)\n",
    "r"
   ]
  },
  {
   "cell_type": "code",
   "execution_count": 9,
   "id": "49e53108-d60c-43fb-8477-e0dcb9e4332b",
   "metadata": {},
   "outputs": [
    {
     "data": {
      "text/plain": [
       "(567, 390)"
      ]
     },
     "execution_count": 9,
     "metadata": {},
     "output_type": "execute_result"
    }
   ],
   "source": [
    "r.shape"
   ]
  },
  {
   "cell_type": "markdown",
   "id": "be2e591a-a098-48a9-95b6-8dffa6a23929",
   "metadata": {},
   "source": [
    "img=cv2.merge((b,g,r))\n",
    "img.shape"
   ]
  },
  {
   "cell_type": "code",
   "execution_count": 10,
   "id": "ca073a89-ff1f-4ed3-aa2d-74ed9d0c4c3e",
   "metadata": {},
   "outputs": [
    {
     "data": {
      "text/plain": [
       "(567, 390, 3)"
      ]
     },
     "execution_count": 10,
     "metadata": {},
     "output_type": "execute_result"
    }
   ],
   "source": [
    "cur_img=img.copy()\n",
    "cur_img[:,:,0]=0\n",
    "cur_img[:,:,1]=0\n",
    "cv_show('G',cur_img)\n",
    "img.shape"
   ]
  },
  {
   "cell_type": "code",
   "execution_count": 11,
   "id": "4a05f66e-0e6c-421c-88df-c010f587dc42",
   "metadata": {},
   "outputs": [],
   "source": [
    "top_size,bottom_size,left_size,right_size=(50,50,50,50)\n",
    "\n",
    "replicate=cv2.copyMakeBorder(img,top_size,bottom_size,left_size,right_size,borderType=cv2.BORDER_CONSTANT,value=0)\n",
    "cv_show('name',replicate)"
   ]
  },
  {
   "cell_type": "code",
   "execution_count": 12,
   "id": "6997c507-8fd3-410a-a1d1-eac4cbf29588",
   "metadata": {},
   "outputs": [],
   "source": [
    "img_sky=cv2.imread(r'C:\\Users\\MI\\Desktop\\My_picture\\my_picture\\8061d8f0fb9608eb2c8eacbd58f86aa.jpg')\n",
    "img_sky_1=img_sky[2000:2567,3000:3390]\n",
    "#cv_show('name',img_sky_1)\n",
    "\n",
    "cv_show('name',img_sky_1&img)"
   ]
  },
  {
   "cell_type": "code",
   "execution_count": 13,
   "id": "5accd6c8-9905-4a0d-88a7-bb30ff099016",
   "metadata": {},
   "outputs": [],
   "source": [
    "res=cv2.resize(img,(0,0),fx=1.5,fy=1.5)\n",
    "cv_show('name',res)"
   ]
  },
  {
   "cell_type": "code",
   "execution_count": 14,
   "id": "78b1b449-b538-4dcb-8602-0dabda193cd5",
   "metadata": {},
   "outputs": [],
   "source": [
    "res=cv2.addWeighted(img,0.4,img_sky_1,0.6,10)\n",
    "cv_show('name',res)"
   ]
  },
  {
   "cell_type": "code",
   "execution_count": 15,
   "id": "6f65c651-617e-407e-89ce-5418c057eb57",
   "metadata": {},
   "outputs": [],
   "source": [
    "ret,dst=cv2.threshold(img,127,255,cv2.THRESH_TRUNC)\n",
    "#ret是阈值\n",
    "cv_show('name',dst)"
   ]
  },
  {
   "cell_type": "markdown",
   "id": "2d0fe17e-be60-4915-860c-c2f80351f342",
   "metadata": {},
   "source": [
    "# 图像数据的平滑处理"
   ]
  },
  {
   "cell_type": "code",
   "execution_count": 16,
   "id": "11ba1c85-cb83-4f3e-b3ea-676ddbe284da",
   "metadata": {},
   "outputs": [],
   "source": [
    "#均值滤波\n",
    "blur=cv2.blur(img,(3,3))\n",
    "\n",
    "cv2.imshow('blur',blur)\n",
    "cv2.waitKey(0)\n",
    "cv2.destroyAllWindows()"
   ]
  },
  {
   "cell_type": "code",
   "execution_count": 17,
   "id": "68dbaf7d-6e9a-482c-8809-91f7b4218b34",
   "metadata": {},
   "outputs": [],
   "source": [
    "# 方框滤波\n",
    "box_false=cv2.boxFilter(img,-1,(3,3),normalize=False)\n",
    "\n",
    "cv2.imshow('box_false',box_false)\n",
    "cv2.waitKey(0)\n",
    "cv2.destroyAllWindows()"
   ]
  },
  {
   "cell_type": "code",
   "execution_count": 18,
   "id": "07d2f420-cc90-4e69-a234-5f44ffb6f55c",
   "metadata": {},
   "outputs": [],
   "source": [
    "# 高斯滤波（高斯函数）\n",
    "# 按照距离远近设置权重\n",
    "aussian=cv2.GaussianBlur(img,(5,5),1)\n",
    "\n",
    "cv2.imshow('aussian',aussian)\n",
    "cv2.waitKey(0)\n",
    "cv2.destroyAllWindows()"
   ]
  },
  {
   "cell_type": "code",
   "execution_count": 19,
   "id": "359fb8a6-3312-4248-9c52-cfdf3baa4ac2",
   "metadata": {},
   "outputs": [],
   "source": [
    "# 中值滤波\n",
    "median=cv2.medianBlur(img,5)\n",
    "\n",
    "cv2.imshow('median',median)\n",
    "cv2.waitKey(0)\n",
    "cv2.destroyAllWindows()"
   ]
  },
  {
   "cell_type": "code",
   "execution_count": 20,
   "id": "b4afb256-c348-417a-8506-5f4a54132476",
   "metadata": {},
   "outputs": [
    {
     "name": "stdout",
     "output_type": "stream",
     "text": [
      "[[[218 142  66]\n",
      "  [218 142  66]\n",
      "  [218 142  66]\n",
      "  ...\n",
      "  [218 142  66]\n",
      "  [218 142  66]\n",
      "  [218 142  66]]\n",
      "\n",
      " [[218 142  66]\n",
      "  [218 142  66]\n",
      "  [218 142  66]\n",
      "  ...\n",
      "  [218 142  66]\n",
      "  [218 142  66]\n",
      "  [218 142  66]]\n",
      "\n",
      " [[218 142  66]\n",
      "  [218 142  66]\n",
      "  [218 142  66]\n",
      "  ...\n",
      "  [218 142  66]\n",
      "  [218 142  66]\n",
      "  [218 142  66]]\n",
      "\n",
      " ...\n",
      "\n",
      " [[139 151 157]\n",
      "  [142 154 159]\n",
      "  [149 161 165]\n",
      "  ...\n",
      "  [185 197 197]\n",
      "  [188 198 198]\n",
      "  [189 199 199]]\n",
      "\n",
      " [[142 154 159]\n",
      "  [144 156 161]\n",
      "  [150 162 166]\n",
      "  ...\n",
      "  [185 196 197]\n",
      "  [188 198 198]\n",
      "  [190 199 200]]\n",
      "\n",
      " [[143 155 159]\n",
      "  [145 157 161]\n",
      "  [151 163 165]\n",
      "  ...\n",
      "  [185 194 197]\n",
      "  [189 198 200]\n",
      "  [191 200 200]]]\n"
     ]
    }
   ],
   "source": [
    "# 展示所有的\n",
    "res=np.hstack((blur,box_false,aussian,median))#vstack\n",
    "print(res)\n",
    "cv2.imshow('median vs average',res)\n",
    "cv2.waitKey(0)\n",
    "cv2.destroyAllWindows()"
   ]
  },
  {
   "cell_type": "markdown",
   "id": "193df89e-b727-438e-9279-7885585d030c",
   "metadata": {},
   "source": [
    "# 形态学-腐蚀操作\n",
    "*常用于图像数据是二值*"
   ]
  },
  {
   "cell_type": "code",
   "execution_count": 21,
   "id": "a3331eaa-8716-48fe-9e92-2e029795fc54",
   "metadata": {},
   "outputs": [],
   "source": [
    "img=cv2.imread(r'C:\\Users\\MI\\Desktop\\My_picture\\my_picture\\9a8daf30a5d2e9535ef1b3ee1751661.png')\n",
    "\n",
    "kernel=np.ones((5,5),np.uint8)\n",
    "erosion=cv2.erode(img,kernel,iterations=1)\n",
    "\n",
    "cv2.imshow('erosion',erosion)\n",
    "cv2.waitKey(0)\n",
    "cv2.destroyAllWindows()"
   ]
  },
  {
   "cell_type": "markdown",
   "id": "c443f064-3a43-43ec-b91e-56dcb322ab72",
   "metadata": {},
   "source": [
    "# 膨胀操作"
   ]
  },
  {
   "cell_type": "code",
   "execution_count": 22,
   "id": "793cfc6e-b4c0-4d37-85bb-74cfbc61bcb0",
   "metadata": {},
   "outputs": [],
   "source": [
    "dige_dilate=cv2.dilate(erosion,kernel,iterations=1)\n",
    "\n",
    "cv_show('name',dige_dilate)"
   ]
  },
  {
   "cell_type": "markdown",
   "id": "5dfad432-df41-4fcc-a636-06b7e177b8f0",
   "metadata": {},
   "source": [
    "**开运算和闭运算**\n",
    "*开运算，先腐蚀再膨胀*\n",
    "*闭运算，先膨胀再腐蚀*"
   ]
  },
  {
   "cell_type": "code",
   "execution_count": 23,
   "id": "b530bb1a-49f8-448e-afff-c6165540b0df",
   "metadata": {},
   "outputs": [],
   "source": [
    "opening=cv2.morphologyEx(img,cv2.MORPH_OPEN,kernel)\n",
    "closing=cv2.morphologyEx(img,cv2.MORPH_CLOSE,kernel)\n",
    "\n",
    "res=np.hstack((img,opening,closing))\n",
    "cv2.imshow('name',res)\n",
    "cv2.waitKey(0)\n",
    "cv2.destroyAllWindows()"
   ]
  },
  {
   "cell_type": "markdown",
   "id": "fd328fb3-ff4c-441a-a149-3df452ee0a5f",
   "metadata": {},
   "source": [
    "# 梯度运算"
   ]
  },
  {
   "cell_type": "code",
   "execution_count": 24,
   "id": "fa0ed268-6bbf-42f7-ab3d-b9624e1e9f29",
   "metadata": {},
   "outputs": [],
   "source": [
    "# 膨胀操作减去腐蚀操作\n",
    "gradient=cv2.morphologyEx(img,cv2.MORPH_GRADIENT,kernel)\n",
    "\n",
    "cv2.imshow('gradient',gradient)\n",
    "cv2.waitKey(0)\n",
    "cv2.destroyAllWindows()"
   ]
  },
  {
   "cell_type": "markdown",
   "id": "6cf49db2-0561-45c7-a9b2-a08fc75927a0",
   "metadata": {},
   "source": [
    "# 礼帽和黑帽\\n\n",
    "礼帽=原始数据-开运算数据\n",
    "黑帽=闭运算-原始输入"
   ]
  },
  {
   "cell_type": "code",
   "execution_count": 25,
   "id": "b82d27c7-1e91-47c2-8172-e889a8be8735",
   "metadata": {},
   "outputs": [],
   "source": [
    "#礼帽\n",
    "tophat=cv2.morphologyEx(img,cv2.MORPH_TOPHAT,kernel)\n",
    "cv_show('name',tophat)"
   ]
  },
  {
   "cell_type": "code",
   "execution_count": 26,
   "id": "f8c6e4e8-8232-4c10-89fe-b0e0194adfa1",
   "metadata": {},
   "outputs": [],
   "source": [
    "#黑帽\n",
    "blackhat=cv2.morphologyEx(img,cv2.MORPH_BLACKHAT,kernel)\n",
    "cv_show('name',blackhat)"
   ]
  },
  {
   "cell_type": "markdown",
   "id": "8ce1a8c9-96b5-444b-bc4a-4cb391578956",
   "metadata": {},
   "source": [
    "# sobel算子"
   ]
  },
  {
   "cell_type": "code",
   "execution_count": 27,
   "id": "234e804b-5183-4605-b32c-4f9d555d00e1",
   "metadata": {},
   "outputs": [],
   "source": [
    "# 如何计算图像的梯度\n",
    "img=cv2.imread(r'C:\\Users\\MI\\Desktop\\My_picture\\my_picture\\c43ee4c6ea16995febcd4a45eb5e36d.png')\n",
    "\n",
    "cv_show('name',img)"
   ]
  },
  {
   "cell_type": "code",
   "execution_count": 28,
   "id": "d1c4334a-e807-4921-b152-98b8ffb8343a",
   "metadata": {},
   "outputs": [],
   "source": [
    "sobelx=cv2.Sobel(img,cv2.CV_64F,1,0,ksize=3)\n",
    "cv_show('name',sobelx)"
   ]
  },
  {
   "cell_type": "code",
   "execution_count": 29,
   "id": "fc57abf3-a294-44b4-beed-7e2d3eea5983",
   "metadata": {},
   "outputs": [],
   "source": [
    "sobelx=cv2.convertScaleAbs(sobelx)\n",
    "cv_show('sobelx',sobelx)\n",
    "\n",
    "#可以使用addWeighted()操作进行合成\n",
    "sobelxy=cv2.Sobel(img,cv2.CV_64F,1,1,ksize=3)\n",
    "cv_show('sobelxy',sobelxy)"
   ]
  },
  {
   "cell_type": "code",
   "execution_count": 30,
   "id": "22aa6438-bf11-4f2f-bc93-06c4ab921bcc",
   "metadata": {},
   "outputs": [],
   "source": [
    "img=cv2.imread(r'C:\\Users\\MI\\Desktop\\My_picture\\my_picture\\my_picture..jpg',0)\n",
    "sobelx=cv2.Sobel(img,-1,1,0,ksize=3)\n",
    "sobely=cv2.Sobel(img,-1,0,1,ksize=3)\n",
    "sobelxy=cv2.addWeighted(sobelx,0.5,sobely,0.5,0)\n",
    "# cv2.CV_64F是一个神奇的参数\n",
    "# 分别计算再合成可以保留更多细节\n",
    "cv_show('name',sobelxy)"
   ]
  },
  {
   "cell_type": "markdown",
   "id": "d0572408-4067-4365-9a2f-6452cb04eb81",
   "metadata": {},
   "source": [
    "# Scahrr算子和laplacian算子"
   ]
  },
  {
   "cell_type": "code",
   "execution_count": 31,
   "id": "e4042183-423c-4eb0-a6d9-09860534954d",
   "metadata": {},
   "outputs": [],
   "source": [
    "# Scahrr算子参数更大计算结果更明显\n",
    "# laplacian算子求二阶导，对噪音敏感一般与其它一起使用\n",
    "\n",
    "# Scharr只有四个参数并且第三个参数和第四个参数不能相同\n",
    "scharr=cv2.Scharr(img,cv2.CV_64F,0,1)\n",
    "cv_show('name',scharr)\n",
    "\n",
    "laplacian=cv2.Laplacian(img,cv2.CV_64F)\n",
    "cv_show('name',laplacian)"
   ]
  },
  {
   "cell_type": "markdown",
   "id": "3ada2a28-73a9-4bfb-8eae-685a9f798b31",
   "metadata": {},
   "source": [
    "# Canny边缘检测\n",
    "1. 高斯滤波器，滤除噪声\n",
    "2. 计算像素点的梯度强度和方向\n",
    "3. 应用非极大值（Non-Maximum）抑制，以消除边缘检测的杂散效应\n",
    "4. 应用双阈值（Double-Threshold）检测来确定真实和潜在的边缘\n",
    "5. 通过抑制孤立的弱边完成边缘检测"
   ]
  },
  {
   "cell_type": "code",
   "execution_count": 32,
   "id": "fc7572a8-3832-4576-a511-b6e6617f8c1b",
   "metadata": {},
   "outputs": [],
   "source": [
    "# 非极大值抑制\n",
    "# 双阈值\n",
    "cv_show('name',img)\n",
    "\n",
    "v1=cv2.Canny(img,80,150)\n",
    "v2=cv2.Canny(img,50,100)\n",
    "cv_show('v1',v1)\n",
    "cv_show('v2',v2)\n",
    "res=np.hstack((v1,v2))\n",
    "cv_show('res',res)"
   ]
  },
  {
   "cell_type": "markdown",
   "id": "f666e6f5-c411-4797-a7dd-fb284c326517",
   "metadata": {},
   "source": [
    "# 图像金字塔\n",
    "* 高斯金字塔\n",
    "* 拉普拉斯金字塔\n",
    "向上采样：越来越大\n",
    "想下采样：越来越小"
   ]
  },
  {
   "cell_type": "code",
   "execution_count": 33,
   "id": "f45da0e3-7210-43e7-98bb-fe3c8260d73f",
   "metadata": {},
   "outputs": [],
   "source": [
    "img=cv2.imread(r'C:\\Users\\MI\\Desktop\\My_picture\\my_picture\\my_picture..jpg')\n",
    "cv_show('name',img)"
   ]
  },
  {
   "cell_type": "code",
   "execution_count": 34,
   "id": "dc945559-0172-47e8-be48-01fb3ab8e6bd",
   "metadata": {},
   "outputs": [],
   "source": [
    "up=cv2.pyrUp(img)\n",
    "down=cv2.pyrDown(img)\n",
    "#res=np.hstack((up,down))\n",
    "#大小不一致，无法拼合\n",
    "cv_show('name',up)\n",
    "cv_show('name',down)"
   ]
  },
  {
   "cell_type": "code",
   "execution_count": 35,
   "id": "77fa0976-4305-4d39-ac29-fbb2f5781145",
   "metadata": {},
   "outputs": [],
   "source": [
    "# 拉普拉斯金字塔\n",
    "#L=G-PyrUp(PyrDown(G))\n",
    "img_gray=cv2.cvtColor(img,cv2.COLOR_BGR2GRAY)\n",
    "cv_show('name',img_gray)\n",
    "down=cv2.pyrDown(img_gray)\n",
    "down_up_1=cv2.pyrUp(down)\n",
    "down=cv2.pyrDown(down_up_1)\n",
    "down_up_2=cv2.pyrUp(down)\n",
    "#由于变换规则某些图片进行拉普拉斯上采样和下采样之后会发生大小变化\n",
    "out=down_up_1-down_up_2\n",
    "cv_show('out',out)"
   ]
  },
  {
   "cell_type": "code",
   "execution_count": null,
   "id": "b8ebb215-faa5-4474-8983-bc51f63dec92",
   "metadata": {},
   "outputs": [],
   "source": []
  }
 ],
 "metadata": {
  "kernelspec": {
   "display_name": "Python 3 (ipykernel)",
   "language": "python",
   "name": "python3"
  },
  "language_info": {
   "codemirror_mode": {
    "name": "ipython",
    "version": 3
   },
   "file_extension": ".py",
   "mimetype": "text/x-python",
   "name": "python",
   "nbconvert_exporter": "python",
   "pygments_lexer": "ipython3",
   "version": "3.12.7"
  }
 },
 "nbformat": 4,
 "nbformat_minor": 5
}
