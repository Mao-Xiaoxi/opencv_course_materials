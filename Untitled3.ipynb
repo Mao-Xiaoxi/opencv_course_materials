{
 "cells": [
  {
   "cell_type": "markdown",
   "id": "06323832-819a-4a9b-a17c-e0e41cd18c87",
   "metadata": {},
   "source": [
    "# 图像·特征harris角点检测\n",
    "* img:输入图像（float32）\n",
    "* blocksize：指定窗口大小\n",
    "* ksize：Sobel求导中使用的窗口大小\n",
    "* k：取值参数为【0.04，0.06】"
   ]
  },
  {
   "cell_type": "code",
   "execution_count": 12,
   "id": "f4718aee-7e47-49e9-a953-77b3f8a860cb",
   "metadata": {},
   "outputs": [
    {
     "name": "stdout",
     "output_type": "stream",
     "text": [
      "img.shape (676, 677, 3)\n",
      "dst.shape (676, 677)\n"
     ]
    }
   ],
   "source": [
    "import cv2\n",
    "import numpy as np\n",
    "def cv_show(img):\n",
    "    cv2.imshow('test',img)\n",
    "    cv2.waitKey(0)\n",
    "    cv2.destroyAllWindows()\n",
    "img=cv2.imread(r'C:\\Users\\MI\\Desktop\\My_picture\\my_picture\\chessboard.png')\n",
    "print('img.shape',img.shape)\n",
    "gray=cv2.cvtColor(img,cv2.COLOR_BGR2GRAY)\n",
    "dst=cv2.cornerHarris(gray,2,3,0.04)\n",
    "print('dst.shape',dst.shape)"
   ]
  },
  {
   "cell_type": "code",
   "execution_count": 13,
   "id": "eb21dfda-c6eb-45c6-8cb3-b59faa46050c",
   "metadata": {},
   "outputs": [],
   "source": [
    "img[dst>0.01*dst.max()]=[0,255,0]\n",
    "cv2.imshow('dst',img) # 原图像中已有红点\n",
    "cv2.waitKey(0)\n",
    "cv2.destroyAllWindows()"
   ]
  },
  {
   "cell_type": "markdown",
   "id": "fb3cb968-0122-42e1-bc60-bb22a4db95f7",
   "metadata": {},
   "source": [
    "# Scale Invariant Feature Transform (SIFT)\n",
    "图像尺度空间\n",
    "让机器能够对物体在不同尺度下有一个统一的认知，考虑图像在不同尺度下都存在的特点\n",
    "* 高斯差分金字塔\n",
    "**消除边界效应**"
   ]
  },
  {
   "cell_type": "markdown",
   "id": "d501a9fd-af39-44ce-bf06-6e4f0fe651ff",
   "metadata": {},
   "source": [
    "# opencv SIFT函数"
   ]
  },
  {
   "cell_type": "code",
   "execution_count": 14,
   "id": "a4736b90-9461-4c65-bbf1-c8134921a002",
   "metadata": {},
   "outputs": [
    {
     "name": "stdout",
     "output_type": "stream",
     "text": [
      "(3799,)\n"
     ]
    },
    {
     "data": {
      "text/plain": [
       "array([  2.,  64., 155.,  25.,   0.,   0.,   0.,   0.,  69., 137., 124.,\n",
       "         3.,   0.,   0.,   0.,  15., 101.,  25.,  21.,   7.,   1.,   0.,\n",
       "         2.,  92.,  11.,   2.,   1.,   9.,  10.,   5.,  14.,  45.,  59.,\n",
       "        65.,  80.,   2.,   3.,   4.,   2.,  12., 155.,  75.,  23.,   0.,\n",
       "         1.,   1.,   0.,  63., 155.,  14.,   5.,   5.,   3.,   0.,   0.,\n",
       "       108.,   7.,  12.,  14.,  73.,  30.,   0.,   0.,   4.,  41.,   2.,\n",
       "         0.,   0.,   6.,   3.,   1.,  11., 155.,  33.,   0.,   0.,   2.,\n",
       "         0.,   0.,  17., 148.,  24.,   4.,  29.,  30.,   0.,   0.,  11.,\n",
       "         0.,   1.,  15., 155.,  42.,   0.,   0.,   1.,   0.,   0.,   0.,\n",
       "         0.,   0.,   0.,   0.,   0.,  12.,   0.,   0.,   0.,   0.,   0.,\n",
       "         0.,   1.,  12.,   0.,   0.,   9.,  13.,   0.,   0.,   2.,   1.,\n",
       "         0.,   0.,  40.,  22.,   0.,   0.,   3.], dtype=float32)"
      ]
     },
     "execution_count": 14,
     "metadata": {},
     "output_type": "execute_result"
    }
   ],
   "source": [
    "#高版本的opencv中的SIFT函数处于专利保护道德状态，推荐使用3.4.1.15\n",
    "img=cv2.imread(r'C:\\Users\\MI\\Desktop\\My_picture\\my_picture\\face.jpg')\n",
    "gray=cv2.cvtColor(img,cv2.COLOR_BGR2GRAY)\n",
    "cv2.__version__\n",
    "#sift=cv2.xfratures2d.SIFT_create()\n",
    "#SIFT专利已经到期，已被挪出非免费模块可使用以下代码调用\n",
    "sift=cv2.SIFT_create()\n",
    "kp=sift.detect(gray,None)\n",
    "img=cv2.drawKeypoints(gray,kp,img)\n",
    "cv_show(img)\n",
    "kp,des=sift.compute(gray,kp)\n",
    "print(np.array(kp).shape)\n",
    "des.shape\n",
    "des[0]"
   ]
  },
  {
   "cell_type": "markdown",
   "id": "bc6f2f7c-a4cf-4ad6-b22d-e85616b01aeb",
   "metadata": {},
   "source": [
    "# 特征匹配\n",
    "## 蛮力匹配（Brute-Force） \n",
    "计算出特征点特征向量，比较出大小关系"
   ]
  },
  {
   "cell_type": "code",
   "execution_count": 21,
   "id": "3cf2438f-1aee-4d42-97c6-62b405c84fa4",
   "metadata": {},
   "outputs": [],
   "source": [
    "img_1=cv2.imread(r'C:\\Users\\MI\\Desktop\\My_picture\\my_picture\\face.jpg')\n",
    "img_2=cv2.imread(r'C:\\Users\\MI\\Desktop\\My_picture\\my_picture\\zxqe_3.jpg')\n",
    "height,width=img_1.shape[:2]\n",
    "img_1=cv2.resize(img_1,(int(width/2),int(height/2)))\n",
    "cv_show(img_1)\n",
    "cv_show(img_2)"
   ]
  },
  {
   "cell_type": "code",
   "execution_count": 35,
   "id": "19d8b8d0-811d-435a-be37-4868db7803d9",
   "metadata": {},
   "outputs": [],
   "source": [
    "sift=cv2.SIFT_create()\n",
    "kp1,des1=sift.detectAndCompute(img_1,None)\n",
    "kp2,des2=sift.detectAndCompute(img_2,None)\n",
    "bf=cv2.BFMatcher(crossCheck=True)\n",
    "\n",
    "#一对一匹配\n",
    "matches=bf.match(des1,des2)\n",
    "matches=sorted(matches,key=lambda x:x.distance)\n",
    "img_3=cv2.drawMatches(img_1,kp1,img_2,kp2,matches[:10],None,flags=2)\n",
    "img_3=cv2.resize(img_3,(0,0),fx=0.5,fy=0.5)\n",
    "cv_show(img_3)"
   ]
  },
  {
   "cell_type": "code",
   "execution_count": 36,
   "id": "7cfbadb5-2cf3-4328-b8e6-6244bd43beb0",
   "metadata": {},
   "outputs": [],
   "source": [
    "#一对多的匹配\n",
    "# k对最佳匹配\n",
    "bf=cv2.BFMatcher()\n",
    "matches=bf.knnMatch(des1,des2,k=2)\n",
    "good=[]\n",
    "for m,n in matches:\n",
    "    if m.distance<0.75*n.distance:\n",
    "        good.append([m])\n",
    "\n",
    "img_3=cv2.drawMatchesKnn(img_1,kp1,img_2,kp2,good,None,flags=2)\n",
    "height,width=img_3.shape[:2]\n",
    "img_3=cv2.resize(img_3,((int(width/2),int(height/2))))\n",
    "cv_show(img_3)"
   ]
  },
  {
   "cell_type": "markdown",
   "id": "7a8f7b21-59ee-43a4-a608-293bba3d5e8b",
   "metadata": {},
   "source": [
    "# 随机抽样一致算法（RANSAC）\n",
    "*最小二乘法可能会由于一些偏离点导致拟合偏离*\n",
    "RANSAC：进行了随机抽样，每次随机抽取两点，将其他点进行拟合，取匹配点最多的情况为最佳拟合。\n",
    "**单应性矩阵**\n"
   ]
  },
  {
   "cell_type": "code",
   "execution_count": null,
   "id": "639f00fa-db13-463a-ade4-613f6c606de5",
   "metadata": {},
   "outputs": [],
   "source": []
  }
 ],
 "metadata": {
  "kernelspec": {
   "display_name": "Python 3 (ipykernel)",
   "language": "python",
   "name": "python3"
  },
  "language_info": {
   "codemirror_mode": {
    "name": "ipython",
    "version": 3
   },
   "file_extension": ".py",
   "mimetype": "text/x-python",
   "name": "python",
   "nbconvert_exporter": "python",
   "pygments_lexer": "ipython3",
   "version": "3.12.7"
  }
 },
 "nbformat": 4,
 "nbformat_minor": 5
}
